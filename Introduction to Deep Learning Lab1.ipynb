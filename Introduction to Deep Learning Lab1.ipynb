{
 "cells": [
  {
   "cell_type": "markdown",
   "id": "4812010e",
   "metadata": {},
   "source": [
    "# Introduction to Deep Learning\n",
    "\n",
    "## Objectives\n",
    "In this lab, you will embark on the journey of creating a ANN, DNN model tailored for predicting the total expenditure of potential consumers based on various characteristics. As a vehicle salesperson, your goal is to develop a model that can effectively estimate the overall spending potential.\n",
    "\n",
    "Your task is to build and train an ANN/DNN model using tensorflow in a Jupyter notebook.\n",
    "\n",
    "Feel Free to Explore the dataset, analyze its contents, and derive meaningful insights. Additionally, feel empowered to create insightful visualizations that enhance the understanding of the data. "
   ]
  },
  {
   "cell_type": "markdown",
   "id": "da5b7ee8",
   "metadata": {},
   "source": [
    "# Step 1: Import Libraries"
   ]
  },
  {
   "cell_type": "code",
   "execution_count": 2,
   "id": "4aa7a64f",
   "metadata": {},
   "outputs": [],
   "source": [
    "import pandas as pd\n",
    "import numpy as np\n",
    "import matplotlib.pyplot as plt\n",
    "from sklearn.model_selection import train_test_split\n",
    "from sklearn.preprocessing import StandardScaler\n",
    "from sklearn.metrics import accuracy_score, confusion_matrix\n",
    "from tensorflow.keras.models import Sequential\n",
    "from keras.models import Sequential\n",
    "\n",
    "from tensorflow.keras.layers import Dense\n",
    "from sklearn import preprocessing \n",
    "from sklearn.preprocessing import MinMaxScaler\n",
    "from sklearn.metrics import mean_squared_error, r2_score\n",
    "import time\n",
    "import warnings\n",
    "warnings.filterwarnings('ignore')"
   ]
  },
  {
   "cell_type": "markdown",
   "id": "2d843bfa",
   "metadata": {},
   "source": [
    "# Step 2: Load and Explore the Data"
   ]
  },
  {
   "cell_type": "code",
   "execution_count": 3,
   "id": "586083a4",
   "metadata": {},
   "outputs": [
    {
     "data": {
      "text/html": [
       "<div>\n",
       "<style scoped>\n",
       "    .dataframe tbody tr th:only-of-type {\n",
       "        vertical-align: middle;\n",
       "    }\n",
       "\n",
       "    .dataframe tbody tr th {\n",
       "        vertical-align: top;\n",
       "    }\n",
       "\n",
       "    .dataframe thead th {\n",
       "        text-align: right;\n",
       "    }\n",
       "</style>\n",
       "<table border=\"1\" class=\"dataframe\">\n",
       "  <thead>\n",
       "    <tr style=\"text-align: right;\">\n",
       "      <th></th>\n",
       "      <th>customer name</th>\n",
       "      <th>customer e-mail</th>\n",
       "      <th>country</th>\n",
       "      <th>gender</th>\n",
       "      <th>age</th>\n",
       "      <th>annual Salary</th>\n",
       "      <th>credit card debt</th>\n",
       "      <th>net worth</th>\n",
       "      <th>car purchase amount</th>\n",
       "    </tr>\n",
       "  </thead>\n",
       "  <tbody>\n",
       "    <tr>\n",
       "      <th>0</th>\n",
       "      <td>Martina Avila</td>\n",
       "      <td>cubilia.Curae.Phasellus@quisaccumsanconvallis.edu</td>\n",
       "      <td>Bulgaria</td>\n",
       "      <td>0</td>\n",
       "      <td>41.851720</td>\n",
       "      <td>62812.09301</td>\n",
       "      <td>11609.380910</td>\n",
       "      <td>238961.2505</td>\n",
       "      <td>35321.45877</td>\n",
       "    </tr>\n",
       "    <tr>\n",
       "      <th>1</th>\n",
       "      <td>Harlan Barnes</td>\n",
       "      <td>eu.dolor@diam.co.uk</td>\n",
       "      <td>Belize</td>\n",
       "      <td>0</td>\n",
       "      <td>40.870623</td>\n",
       "      <td>66646.89292</td>\n",
       "      <td>9572.957136</td>\n",
       "      <td>530973.9078</td>\n",
       "      <td>45115.52566</td>\n",
       "    </tr>\n",
       "    <tr>\n",
       "      <th>2</th>\n",
       "      <td>Naomi Rodriquez</td>\n",
       "      <td>vulputate.mauris.sagittis@ametconsectetueradip...</td>\n",
       "      <td>Algeria</td>\n",
       "      <td>1</td>\n",
       "      <td>43.152897</td>\n",
       "      <td>53798.55112</td>\n",
       "      <td>11160.355060</td>\n",
       "      <td>638467.1773</td>\n",
       "      <td>42925.70921</td>\n",
       "    </tr>\n",
       "    <tr>\n",
       "      <th>3</th>\n",
       "      <td>Jade Cunningham</td>\n",
       "      <td>malesuada@dignissim.com</td>\n",
       "      <td>Cook Islands</td>\n",
       "      <td>1</td>\n",
       "      <td>58.271369</td>\n",
       "      <td>79370.03798</td>\n",
       "      <td>14426.164850</td>\n",
       "      <td>548599.0524</td>\n",
       "      <td>67422.36313</td>\n",
       "    </tr>\n",
       "    <tr>\n",
       "      <th>4</th>\n",
       "      <td>Cedric Leach</td>\n",
       "      <td>felis.ullamcorper.viverra@egetmollislectus.net</td>\n",
       "      <td>Brazil</td>\n",
       "      <td>1</td>\n",
       "      <td>57.313749</td>\n",
       "      <td>59729.15130</td>\n",
       "      <td>5358.712177</td>\n",
       "      <td>560304.0671</td>\n",
       "      <td>55915.46248</td>\n",
       "    </tr>\n",
       "    <tr>\n",
       "      <th>...</th>\n",
       "      <td>...</td>\n",
       "      <td>...</td>\n",
       "      <td>...</td>\n",
       "      <td>...</td>\n",
       "      <td>...</td>\n",
       "      <td>...</td>\n",
       "      <td>...</td>\n",
       "      <td>...</td>\n",
       "      <td>...</td>\n",
       "    </tr>\n",
       "    <tr>\n",
       "      <th>495</th>\n",
       "      <td>Walter</td>\n",
       "      <td>ligula@Cumsociis.ca</td>\n",
       "      <td>Nepal</td>\n",
       "      <td>0</td>\n",
       "      <td>41.462515</td>\n",
       "      <td>71942.40291</td>\n",
       "      <td>6995.902524</td>\n",
       "      <td>541670.1016</td>\n",
       "      <td>48901.44342</td>\n",
       "    </tr>\n",
       "    <tr>\n",
       "      <th>496</th>\n",
       "      <td>Vanna</td>\n",
       "      <td>Cum.sociis.natoque@Sedmolestie.edu</td>\n",
       "      <td>Zimbabwe</td>\n",
       "      <td>1</td>\n",
       "      <td>37.642000</td>\n",
       "      <td>56039.49793</td>\n",
       "      <td>12301.456790</td>\n",
       "      <td>360419.0988</td>\n",
       "      <td>31491.41457</td>\n",
       "    </tr>\n",
       "    <tr>\n",
       "      <th>497</th>\n",
       "      <td>Pearl</td>\n",
       "      <td>penatibus.et@massanonante.com</td>\n",
       "      <td>Philippines</td>\n",
       "      <td>1</td>\n",
       "      <td>53.943497</td>\n",
       "      <td>68888.77805</td>\n",
       "      <td>10611.606860</td>\n",
       "      <td>764531.3203</td>\n",
       "      <td>64147.28888</td>\n",
       "    </tr>\n",
       "    <tr>\n",
       "      <th>498</th>\n",
       "      <td>Nell</td>\n",
       "      <td>Quisque.varius@arcuVivamussit.net</td>\n",
       "      <td>Botswana</td>\n",
       "      <td>1</td>\n",
       "      <td>59.160509</td>\n",
       "      <td>49811.99062</td>\n",
       "      <td>14013.034510</td>\n",
       "      <td>337826.6382</td>\n",
       "      <td>45442.15353</td>\n",
       "    </tr>\n",
       "    <tr>\n",
       "      <th>499</th>\n",
       "      <td>Marla</td>\n",
       "      <td>Camaron.marla@hotmail.com</td>\n",
       "      <td>marlal</td>\n",
       "      <td>1</td>\n",
       "      <td>46.731152</td>\n",
       "      <td>61370.67766</td>\n",
       "      <td>9391.341628</td>\n",
       "      <td>462946.4924</td>\n",
       "      <td>45107.22566</td>\n",
       "    </tr>\n",
       "  </tbody>\n",
       "</table>\n",
       "<p>500 rows × 9 columns</p>\n",
       "</div>"
      ],
      "text/plain": [
       "       customer name                                    customer e-mail  \\\n",
       "0      Martina Avila  cubilia.Curae.Phasellus@quisaccumsanconvallis.edu   \n",
       "1      Harlan Barnes                                eu.dolor@diam.co.uk   \n",
       "2    Naomi Rodriquez  vulputate.mauris.sagittis@ametconsectetueradip...   \n",
       "3    Jade Cunningham                            malesuada@dignissim.com   \n",
       "4       Cedric Leach     felis.ullamcorper.viverra@egetmollislectus.net   \n",
       "..               ...                                                ...   \n",
       "495           Walter                                ligula@Cumsociis.ca   \n",
       "496            Vanna                 Cum.sociis.natoque@Sedmolestie.edu   \n",
       "497            Pearl                      penatibus.et@massanonante.com   \n",
       "498             Nell                  Quisque.varius@arcuVivamussit.net   \n",
       "499            Marla                          Camaron.marla@hotmail.com   \n",
       "\n",
       "          country  gender        age  annual Salary  credit card debt  \\\n",
       "0        Bulgaria       0  41.851720    62812.09301      11609.380910   \n",
       "1          Belize       0  40.870623    66646.89292       9572.957136   \n",
       "2         Algeria       1  43.152897    53798.55112      11160.355060   \n",
       "3    Cook Islands       1  58.271369    79370.03798      14426.164850   \n",
       "4          Brazil       1  57.313749    59729.15130       5358.712177   \n",
       "..            ...     ...        ...            ...               ...   \n",
       "495         Nepal       0  41.462515    71942.40291       6995.902524   \n",
       "496      Zimbabwe       1  37.642000    56039.49793      12301.456790   \n",
       "497   Philippines       1  53.943497    68888.77805      10611.606860   \n",
       "498      Botswana       1  59.160509    49811.99062      14013.034510   \n",
       "499        marlal       1  46.731152    61370.67766       9391.341628   \n",
       "\n",
       "       net worth  car purchase amount  \n",
       "0    238961.2505          35321.45877  \n",
       "1    530973.9078          45115.52566  \n",
       "2    638467.1773          42925.70921  \n",
       "3    548599.0524          67422.36313  \n",
       "4    560304.0671          55915.46248  \n",
       "..           ...                  ...  \n",
       "495  541670.1016          48901.44342  \n",
       "496  360419.0988          31491.41457  \n",
       "497  764531.3203          64147.28888  \n",
       "498  337826.6382          45442.15353  \n",
       "499  462946.4924          45107.22566  \n",
       "\n",
       "[500 rows x 9 columns]"
      ]
     },
     "execution_count": 3,
     "metadata": {},
     "output_type": "execute_result"
    }
   ],
   "source": [
    "df = pd.read_csv('car_purchasing.csv', encoding='ISO-8859-1')\n",
    "df"
   ]
  },
  {
   "cell_type": "code",
   "execution_count": 4,
   "id": "f64ef1c7",
   "metadata": {
    "scrolled": true
   },
   "outputs": [
    {
     "data": {
      "text/html": [
       "<div>\n",
       "<style scoped>\n",
       "    .dataframe tbody tr th:only-of-type {\n",
       "        vertical-align: middle;\n",
       "    }\n",
       "\n",
       "    .dataframe tbody tr th {\n",
       "        vertical-align: top;\n",
       "    }\n",
       "\n",
       "    .dataframe thead th {\n",
       "        text-align: right;\n",
       "    }\n",
       "</style>\n",
       "<table border=\"1\" class=\"dataframe\">\n",
       "  <thead>\n",
       "    <tr style=\"text-align: right;\">\n",
       "      <th></th>\n",
       "      <th>gender</th>\n",
       "      <th>age</th>\n",
       "      <th>annual Salary</th>\n",
       "      <th>credit card debt</th>\n",
       "      <th>net worth</th>\n",
       "      <th>car purchase amount</th>\n",
       "    </tr>\n",
       "  </thead>\n",
       "  <tbody>\n",
       "    <tr>\n",
       "      <th>count</th>\n",
       "      <td>500.000000</td>\n",
       "      <td>500.000000</td>\n",
       "      <td>500.000000</td>\n",
       "      <td>500.000000</td>\n",
       "      <td>500.000000</td>\n",
       "      <td>500.000000</td>\n",
       "    </tr>\n",
       "    <tr>\n",
       "      <th>mean</th>\n",
       "      <td>0.506000</td>\n",
       "      <td>46.241674</td>\n",
       "      <td>62127.239608</td>\n",
       "      <td>9607.645049</td>\n",
       "      <td>431475.713625</td>\n",
       "      <td>44209.799218</td>\n",
       "    </tr>\n",
       "    <tr>\n",
       "      <th>std</th>\n",
       "      <td>0.500465</td>\n",
       "      <td>7.978862</td>\n",
       "      <td>11703.378228</td>\n",
       "      <td>3489.187973</td>\n",
       "      <td>173536.756340</td>\n",
       "      <td>10773.178744</td>\n",
       "    </tr>\n",
       "    <tr>\n",
       "      <th>min</th>\n",
       "      <td>0.000000</td>\n",
       "      <td>20.000000</td>\n",
       "      <td>20000.000000</td>\n",
       "      <td>100.000000</td>\n",
       "      <td>20000.000000</td>\n",
       "      <td>9000.000000</td>\n",
       "    </tr>\n",
       "    <tr>\n",
       "      <th>25%</th>\n",
       "      <td>0.000000</td>\n",
       "      <td>40.949969</td>\n",
       "      <td>54391.977195</td>\n",
       "      <td>7397.515792</td>\n",
       "      <td>299824.195900</td>\n",
       "      <td>37629.896040</td>\n",
       "    </tr>\n",
       "    <tr>\n",
       "      <th>50%</th>\n",
       "      <td>1.000000</td>\n",
       "      <td>46.049901</td>\n",
       "      <td>62915.497035</td>\n",
       "      <td>9655.035568</td>\n",
       "      <td>426750.120650</td>\n",
       "      <td>43997.783390</td>\n",
       "    </tr>\n",
       "    <tr>\n",
       "      <th>75%</th>\n",
       "      <td>1.000000</td>\n",
       "      <td>51.612263</td>\n",
       "      <td>70117.862005</td>\n",
       "      <td>11798.867487</td>\n",
       "      <td>557324.478725</td>\n",
       "      <td>51254.709517</td>\n",
       "    </tr>\n",
       "    <tr>\n",
       "      <th>max</th>\n",
       "      <td>1.000000</td>\n",
       "      <td>70.000000</td>\n",
       "      <td>100000.000000</td>\n",
       "      <td>20000.000000</td>\n",
       "      <td>1000000.000000</td>\n",
       "      <td>80000.000000</td>\n",
       "    </tr>\n",
       "  </tbody>\n",
       "</table>\n",
       "</div>"
      ],
      "text/plain": [
       "           gender         age  annual Salary  credit card debt  \\\n",
       "count  500.000000  500.000000     500.000000        500.000000   \n",
       "mean     0.506000   46.241674   62127.239608       9607.645049   \n",
       "std      0.500465    7.978862   11703.378228       3489.187973   \n",
       "min      0.000000   20.000000   20000.000000        100.000000   \n",
       "25%      0.000000   40.949969   54391.977195       7397.515792   \n",
       "50%      1.000000   46.049901   62915.497035       9655.035568   \n",
       "75%      1.000000   51.612263   70117.862005      11798.867487   \n",
       "max      1.000000   70.000000  100000.000000      20000.000000   \n",
       "\n",
       "            net worth  car purchase amount  \n",
       "count      500.000000           500.000000  \n",
       "mean    431475.713625         44209.799218  \n",
       "std     173536.756340         10773.178744  \n",
       "min      20000.000000          9000.000000  \n",
       "25%     299824.195900         37629.896040  \n",
       "50%     426750.120650         43997.783390  \n",
       "75%     557324.478725         51254.709517  \n",
       "max    1000000.000000         80000.000000  "
      ]
     },
     "execution_count": 4,
     "metadata": {},
     "output_type": "execute_result"
    }
   ],
   "source": [
    "df.describe()"
   ]
  },
  {
   "cell_type": "code",
   "execution_count": 5,
   "id": "8a66b8a1",
   "metadata": {
    "scrolled": false
   },
   "outputs": [
    {
     "name": "stdout",
     "output_type": "stream",
     "text": [
      "<class 'pandas.core.frame.DataFrame'>\n",
      "RangeIndex: 500 entries, 0 to 499\n",
      "Data columns (total 9 columns):\n",
      " #   Column               Non-Null Count  Dtype  \n",
      "---  ------               --------------  -----  \n",
      " 0   customer name        500 non-null    object \n",
      " 1   customer e-mail      500 non-null    object \n",
      " 2   country              500 non-null    object \n",
      " 3   gender               500 non-null    int64  \n",
      " 4   age                  500 non-null    float64\n",
      " 5   annual Salary        500 non-null    float64\n",
      " 6   credit card debt     500 non-null    float64\n",
      " 7   net worth            500 non-null    float64\n",
      " 8   car purchase amount  500 non-null    float64\n",
      "dtypes: float64(5), int64(1), object(3)\n",
      "memory usage: 35.3+ KB\n"
     ]
    }
   ],
   "source": [
    "df.info()"
   ]
  },
  {
   "cell_type": "code",
   "execution_count": 6,
   "id": "b71f3a54",
   "metadata": {},
   "outputs": [
    {
     "data": {
      "text/plain": [
       "customer name          0\n",
       "customer e-mail        0\n",
       "country                0\n",
       "gender                 0\n",
       "age                    0\n",
       "annual Salary          0\n",
       "credit card debt       0\n",
       "net worth              0\n",
       "car purchase amount    0\n",
       "dtype: int64"
      ]
     },
     "execution_count": 6,
     "metadata": {},
     "output_type": "execute_result"
    }
   ],
   "source": [
    "df.isnull().sum()"
   ]
  },
  {
   "cell_type": "markdown",
   "id": "2d3ed46e",
   "metadata": {},
   "source": [
    "# Step 3: Data Cleaning and Preprocessing\n",
    "\n",
    "\n",
    "**Hint: You could use a `StandardScaler()` or `MinMaxScaler()`**"
   ]
  },
  {
   "cell_type": "code",
   "execution_count": 7,
   "id": "f1154f26",
   "metadata": {
    "scrolled": true
   },
   "outputs": [],
   "source": [
    "df = df.drop(['customer name','customer e-mail'],axis=1)"
   ]
  },
  {
   "cell_type": "code",
   "execution_count": 8,
   "id": "a35aa91a",
   "metadata": {
    "scrolled": true
   },
   "outputs": [
    {
     "data": {
      "text/plain": [
       "Index(['country', 'gender', 'age', 'annual Salary', 'credit card debt',\n",
       "       'net worth', 'car purchase amount'],\n",
       "      dtype='object')"
      ]
     },
     "execution_count": 8,
     "metadata": {},
     "output_type": "execute_result"
    }
   ],
   "source": [
    "df.columns"
   ]
  },
  {
   "cell_type": "code",
   "execution_count": 9,
   "id": "e37939b1",
   "metadata": {},
   "outputs": [],
   "source": [
    "df['age']=df['age'].astype('int')"
   ]
  },
  {
   "cell_type": "code",
   "execution_count": 10,
   "id": "31fac816",
   "metadata": {
    "scrolled": false
   },
   "outputs": [
    {
     "data": {
      "text/plain": [
       "country                 object\n",
       "gender                   int64\n",
       "age                      int32\n",
       "annual Salary          float64\n",
       "credit card debt       float64\n",
       "net worth              float64\n",
       "car purchase amount    float64\n",
       "dtype: object"
      ]
     },
     "execution_count": 10,
     "metadata": {},
     "output_type": "execute_result"
    }
   ],
   "source": [
    "df.dtypes"
   ]
  },
  {
   "cell_type": "code",
   "execution_count": 11,
   "id": "c75ae414",
   "metadata": {},
   "outputs": [],
   "source": [
    "label_encoder = preprocessing.LabelEncoder() \n",
    "  \n",
    "df['country']= label_encoder.fit_transform(df['country']) "
   ]
  },
  {
   "cell_type": "code",
   "execution_count": 12,
   "id": "8b940fd3",
   "metadata": {
    "scrolled": true
   },
   "outputs": [
    {
     "data": {
      "text/plain": [
       "array([[0.12857143, 0.        , 0.42      , ..., 0.57836085, 0.22342985,\n",
       "        0.37072477],\n",
       "       [0.08095238, 0.        , 0.4       , ..., 0.476028  , 0.52140195,\n",
       "        0.50866938],\n",
       "       [0.0047619 , 1.        , 0.46      , ..., 0.55579674, 0.63108896,\n",
       "        0.47782689],\n",
       "       ...,\n",
       "       [0.68571429, 1.        , 0.66      , ..., 0.52822145, 0.75972584,\n",
       "        0.77672238],\n",
       "       [0.11428571, 1.        , 0.78      , ..., 0.69914746, 0.3243129 ,\n",
       "        0.51326977],\n",
       "       [0.9952381 , 1.        , 0.52      , ..., 0.46690159, 0.45198622,\n",
       "        0.50855247]])"
      ]
     },
     "execution_count": 12,
     "metadata": {},
     "output_type": "execute_result"
    }
   ],
   "source": [
    "scaler = MinMaxScaler()\n",
    "scaler.fit_transform(df)"
   ]
  },
  {
   "cell_type": "markdown",
   "id": "4d654aaa",
   "metadata": {},
   "source": [
    "# Step 4: Train Test Split"
   ]
  },
  {
   "cell_type": "code",
   "execution_count": 13,
   "id": "54687a91",
   "metadata": {},
   "outputs": [],
   "source": [
    "X = df.drop('car purchase amount', axis=1)\n",
    "Y = df['car purchase amount']\n",
    "X_train, X_test, Y_train, Y_test = train_test_split(X, Y, test_size=0.2, random_state=42)"
   ]
  },
  {
   "cell_type": "markdown",
   "id": "db652a21",
   "metadata": {},
   "source": [
    "# Step 5: Build the Artifical Neural Network Model"
   ]
  },
  {
   "cell_type": "code",
   "execution_count": 14,
   "id": "c7612a38",
   "metadata": {},
   "outputs": [
    {
     "name": "stdout",
     "output_type": "stream",
     "text": [
      "WARNING:tensorflow:From C:\\Users\\dalal\\anaconda3\\Lib\\site-packages\\keras\\src\\backend.py:873: The name tf.get_default_graph is deprecated. Please use tf.compat.v1.get_default_graph instead.\n",
      "\n",
      "WARNING:tensorflow:From C:\\Users\\dalal\\anaconda3\\Lib\\site-packages\\keras\\src\\optimizers\\__init__.py:309: The name tf.train.Optimizer is deprecated. Please use tf.compat.v1.train.Optimizer instead.\n",
      "\n"
     ]
    }
   ],
   "source": [
    "model = Sequential()\n",
    "model.add(Dense(units=32,activation='relu',input_shape=(6,)))\n",
    "model.add(Dense(units=1,activation='linear'))\n",
    "\n",
    "model.compile(optimizer='adam',\n",
    "              loss = 'mean_squared_error',\n",
    "              metrics=[\"accuracy\"]\n",
    "             )\n"
   ]
  },
  {
   "cell_type": "markdown",
   "id": "368f070a",
   "metadata": {},
   "source": [
    "### Clarify Your Artificial Neural Network (ANN) Model, Optimization, and Loss Function Choices and justify"
   ]
  },
  {
   "cell_type": "markdown",
   "id": "1350f619",
   "metadata": {},
   "source": [
    "i choose the linear as activation function becaue it is not a classification problem it is regression, for optimizing function i chose adam because it is computationally efficient, memory efficient, and has little memory requirements, and use MSE as loss function because\n",
    "it is the metric for regression."
   ]
  },
  {
   "cell_type": "markdown",
   "id": "9d3d0afe",
   "metadata": {},
   "source": [
    "# Step 6: Train the Model\n"
   ]
  },
  {
   "cell_type": "code",
   "execution_count": 15,
   "id": "df82b416",
   "metadata": {},
   "outputs": [
    {
     "name": "stdout",
     "output_type": "stream",
     "text": [
      "Epoch 1/10\n",
      "WARNING:tensorflow:From C:\\Users\\dalal\\anaconda3\\Lib\\site-packages\\keras\\src\\utils\\tf_utils.py:492: The name tf.ragged.RaggedTensorValue is deprecated. Please use tf.compat.v1.ragged.RaggedTensorValue instead.\n",
      "\n",
      "WARNING:tensorflow:From C:\\Users\\dalal\\anaconda3\\Lib\\site-packages\\keras\\src\\engine\\base_layer_utils.py:384: The name tf.executing_eagerly_outside_functions is deprecated. Please use tf.compat.v1.executing_eagerly_outside_functions instead.\n",
      "\n",
      "10/10 [==============================] - 1s 24ms/step - loss: 248872096.0000 - accuracy: 0.0000e+00 - val_loss: 140617952.0000 - val_accuracy: 0.0000e+00\n",
      "Epoch 2/10\n",
      "10/10 [==============================] - 0s 6ms/step - loss: 132104384.0000 - accuracy: 0.0000e+00 - val_loss: 68361048.0000 - val_accuracy: 0.0000e+00\n",
      "Epoch 3/10\n",
      "10/10 [==============================] - 0s 6ms/step - loss: 89064016.0000 - accuracy: 0.0000e+00 - val_loss: 69106192.0000 - val_accuracy: 0.0000e+00\n",
      "Epoch 4/10\n",
      "10/10 [==============================] - 0s 7ms/step - loss: 80682160.0000 - accuracy: 0.0000e+00 - val_loss: 65601716.0000 - val_accuracy: 0.0000e+00\n",
      "Epoch 5/10\n",
      "10/10 [==============================] - 0s 6ms/step - loss: 73745832.0000 - accuracy: 0.0000e+00 - val_loss: 56854456.0000 - val_accuracy: 0.0000e+00\n",
      "Epoch 6/10\n",
      "10/10 [==============================] - 0s 7ms/step - loss: 69809456.0000 - accuracy: 0.0000e+00 - val_loss: 54295860.0000 - val_accuracy: 0.0000e+00\n",
      "Epoch 7/10\n",
      "10/10 [==============================] - 0s 6ms/step - loss: 66143400.0000 - accuracy: 0.0000e+00 - val_loss: 52500156.0000 - val_accuracy: 0.0000e+00\n",
      "Epoch 8/10\n",
      "10/10 [==============================] - 0s 6ms/step - loss: 63554232.0000 - accuracy: 0.0000e+00 - val_loss: 49114620.0000 - val_accuracy: 0.0000e+00\n",
      "Epoch 9/10\n",
      "10/10 [==============================] - 0s 6ms/step - loss: 60491532.0000 - accuracy: 0.0000e+00 - val_loss: 47938728.0000 - val_accuracy: 0.0000e+00\n",
      "Epoch 10/10\n",
      "10/10 [==============================] - 0s 6ms/step - loss: 58112716.0000 - accuracy: 0.0000e+00 - val_loss: 45334116.0000 - val_accuracy: 0.0000e+00\n"
     ]
    }
   ],
   "source": [
    "start_time = time.time()\n",
    "\n",
    "model.fit(X_train,Y_train,epochs=10,batch_size=32, validation_split=0.2)\n",
    "ANN_training_time = time.time() - start_time"
   ]
  },
  {
   "cell_type": "markdown",
   "id": "ef00d5d7",
   "metadata": {},
   "source": [
    "# Step 7: Evaluate the Model"
   ]
  },
  {
   "cell_type": "code",
   "execution_count": 16,
   "id": "15e3f605",
   "metadata": {},
   "outputs": [
    {
     "name": "stdout",
     "output_type": "stream",
     "text": [
      "4/4 [==============================] - 0s 2ms/step\n",
      "MSE: 53023296.56\n",
      "RMSE: 7281.71\n",
      "R-squared: 0.51\n",
      "Training Time: 1.64 seconds\n",
      "Prediction Time: 0.20 seconds\n"
     ]
    }
   ],
   "source": [
    "start_time = time.time()\n",
    "y_pred = model.predict(X_test)\n",
    "ANN_prediction_time = time.time() - start_time\n",
    "mse = mean_squared_error(Y_test, y_pred)\n",
    "rmse = np.sqrt(mse)\n",
    "r2 = r2_score(Y_test, y_pred)\n",
    "\n",
    "print('MSE: {:.2f}'.format(mse))\n",
    "print('RMSE: {:.2f}'.format(rmse))\n",
    "print('R-squared: {:.2f}'.format(r2))\n",
    "print('Training Time: {:.2f} seconds'.format(ANN_training_time))\n",
    "print('Prediction Time: {:.2f} seconds'.format(ANN_prediction_time))\n",
    "ANN_evaluation = [mse,rmse,r2,ANN_training_time,ANN_prediction_time]"
   ]
  },
  {
   "cell_type": "code",
   "execution_count": 17,
   "id": "527b5aa1",
   "metadata": {},
   "outputs": [
    {
     "data": {
      "text/plain": [
       "array([[52846.062],\n",
       "       [44296.062],\n",
       "       [53663.117],\n",
       "       [25331.215],\n",
       "       [62621.836],\n",
       "       [51877.242],\n",
       "       [55123.086],\n",
       "       [49219.04 ],\n",
       "       [46389.07 ],\n",
       "       [45035.67 ],\n",
       "       [40167.016],\n",
       "       [34308.18 ],\n",
       "       [29880.154],\n",
       "       [43928.867],\n",
       "       [46690.   ],\n",
       "       [57891.414],\n",
       "       [52108.797],\n",
       "       [28397.322],\n",
       "       [61303.68 ],\n",
       "       [43101.207],\n",
       "       [38284.59 ],\n",
       "       [43848.75 ],\n",
       "       [48983.4  ],\n",
       "       [36258.89 ],\n",
       "       [32673.65 ],\n",
       "       [44258.773],\n",
       "       [59390.6  ],\n",
       "       [42731.625],\n",
       "       [28832.123],\n",
       "       [48581.47 ],\n",
       "       [50305.46 ],\n",
       "       [37424.324],\n",
       "       [45765.83 ],\n",
       "       [45204.195],\n",
       "       [47481.805],\n",
       "       [39748.023],\n",
       "       [44478.867],\n",
       "       [28794.064],\n",
       "       [33815.586],\n",
       "       [30201.854],\n",
       "       [59719.9  ],\n",
       "       [56998.15 ],\n",
       "       [39064.555],\n",
       "       [40984.14 ],\n",
       "       [47124.094],\n",
       "       [34020.82 ],\n",
       "       [34438.992],\n",
       "       [33941.98 ],\n",
       "       [42419.676],\n",
       "       [47201.312],\n",
       "       [45111.523],\n",
       "       [43907.65 ],\n",
       "       [36468.145],\n",
       "       [33584.547],\n",
       "       [46108.344],\n",
       "       [39388.344],\n",
       "       [51410.11 ],\n",
       "       [39896.46 ],\n",
       "       [31461.67 ],\n",
       "       [39736.875],\n",
       "       [59681.336],\n",
       "       [42417.96 ],\n",
       "       [31466.494],\n",
       "       [56637.29 ],\n",
       "       [45165.07 ],\n",
       "       [49703.414],\n",
       "       [53799.086],\n",
       "       [34969.914],\n",
       "       [33852.426],\n",
       "       [42399.75 ],\n",
       "       [44038.797],\n",
       "       [36076.266],\n",
       "       [49161.17 ],\n",
       "       [46179.85 ],\n",
       "       [56806.633],\n",
       "       [30196.744],\n",
       "       [31046.361],\n",
       "       [40510.023],\n",
       "       [29029.68 ],\n",
       "       [49723.98 ],\n",
       "       [41262.047],\n",
       "       [35837.57 ],\n",
       "       [37272.836],\n",
       "       [46310.008],\n",
       "       [48065.555],\n",
       "       [31579.893],\n",
       "       [31807.627],\n",
       "       [33789.68 ],\n",
       "       [38238.586],\n",
       "       [46364.25 ],\n",
       "       [39279.914],\n",
       "       [41164.055],\n",
       "       [44099.883],\n",
       "       [48802.008],\n",
       "       [33393.367],\n",
       "       [51420.867],\n",
       "       [45539.367],\n",
       "       [47536.367],\n",
       "       [41721.008],\n",
       "       [45504.055]], dtype=float32)"
      ]
     },
     "execution_count": 17,
     "metadata": {},
     "output_type": "execute_result"
    }
   ],
   "source": [
    "y_pred"
   ]
  },
  {
   "cell_type": "markdown",
   "id": "298936f8",
   "metadata": {},
   "source": [
    "# Step 8: Build the Deep Neural Network Model"
   ]
  },
  {
   "cell_type": "code",
   "execution_count": 18,
   "id": "7b040bf5",
   "metadata": {},
   "outputs": [],
   "source": [
    "# here DNN\n",
    "model_DNN = Sequential()\n",
    "model_DNN.add(Dense(units=32,activation='relu',input_shape=(6,)))\n",
    "model_DNN.add(Dense(units=1,activation='linear'))\n",
    "model_DNN.add(Dense(units=1,activation='linear'))\n",
    "model_DNN.add(Dense(units=1,activation='linear'))\n",
    "\n",
    "\n",
    "model_DNN.compile(optimizer='adam',\n",
    "              loss = 'MSE',\n",
    "              metrics=[\"accuracy\"]\n",
    "             )\n"
   ]
  },
  {
   "cell_type": "markdown",
   "id": "d54d2910",
   "metadata": {},
   "source": [
    "### Clarify Your Deep Neural Network (DNN) Model, Optimization, and Loss Function Choices and justify "
   ]
  },
  {
   "cell_type": "markdown",
   "id": "5e94ee60",
   "metadata": {},
   "source": [
    "i choose the linear as activation function because it is not a classification problem it is regression, for optimizing function i chose adam because it is computationally efficient, memory efficient, and has little memory requirements, and use MSE as loss function because\n",
    "it is the metric for regression."
   ]
  },
  {
   "cell_type": "markdown",
   "id": "fd026668",
   "metadata": {},
   "source": [
    "# Step 9: Train the Model"
   ]
  },
  {
   "cell_type": "code",
   "execution_count": 19,
   "id": "c3132af2",
   "metadata": {},
   "outputs": [
    {
     "name": "stdout",
     "output_type": "stream",
     "text": [
      "Epoch 1/10\n",
      "10/10 [==============================] - 1s 21ms/step - loss: 24745496576.0000 - accuracy: 0.0000e+00 - val_loss: 18957676544.0000 - val_accuracy: 0.0000e+00\n",
      "Epoch 2/10\n",
      "10/10 [==============================] - 0s 7ms/step - loss: 15487539200.0000 - accuracy: 0.0000e+00 - val_loss: 11376457728.0000 - val_accuracy: 0.0000e+00\n",
      "Epoch 3/10\n",
      "10/10 [==============================] - 0s 7ms/step - loss: 9067475968.0000 - accuracy: 0.0000e+00 - val_loss: 6297499136.0000 - val_accuracy: 0.0000e+00\n",
      "Epoch 4/10\n",
      "10/10 [==============================] - 0s 7ms/step - loss: 4844167680.0000 - accuracy: 0.0000e+00 - val_loss: 3132169728.0000 - val_accuracy: 0.0000e+00\n",
      "Epoch 5/10\n",
      "10/10 [==============================] - 0s 7ms/step - loss: 2335491840.0000 - accuracy: 0.0000e+00 - val_loss: 1369062784.0000 - val_accuracy: 0.0000e+00\n",
      "Epoch 6/10\n",
      "10/10 [==============================] - 0s 7ms/step - loss: 986194560.0000 - accuracy: 0.0000e+00 - val_loss: 513899456.0000 - val_accuracy: 0.0000e+00\n",
      "Epoch 7/10\n",
      "10/10 [==============================] - 0s 7ms/step - loss: 363356160.0000 - accuracy: 0.0000e+00 - val_loss: 166903008.0000 - val_accuracy: 0.0000e+00\n",
      "Epoch 8/10\n",
      "10/10 [==============================] - 0s 7ms/step - loss: 128578280.0000 - accuracy: 0.0000e+00 - val_loss: 59873112.0000 - val_accuracy: 0.0000e+00\n",
      "Epoch 9/10\n",
      "10/10 [==============================] - 0s 7ms/step - loss: 61331240.0000 - accuracy: 0.0000e+00 - val_loss: 41169912.0000 - val_accuracy: 0.0000e+00\n",
      "Epoch 10/10\n",
      "10/10 [==============================] - 0s 7ms/step - loss: 50031628.0000 - accuracy: 0.0000e+00 - val_loss: 42441960.0000 - val_accuracy: 0.0000e+00\n"
     ]
    }
   ],
   "source": [
    "start_time = time.time()\n",
    "model_DNN.fit(X_train,Y_train,epochs=10,batch_size=32, validation_split=0.2)\n",
    "DNN_training_time = time.time() - start_time"
   ]
  },
  {
   "cell_type": "markdown",
   "id": "2c47aa76",
   "metadata": {},
   "source": [
    "# Step 10: Evaluate the Model"
   ]
  },
  {
   "cell_type": "code",
   "execution_count": 20,
   "id": "ff9d5311",
   "metadata": {
    "scrolled": true
   },
   "outputs": [
    {
     "name": "stdout",
     "output_type": "stream",
     "text": [
      "4/4 [==============================] - 0s 2ms/step\n",
      "MSE: 45418355.77\n",
      "RMSE: 6739.31\n",
      "R-squared: 0.58\n",
      "Training Time: 1.62 seconds\n",
      "Prediction Time: 0.16 seconds\n"
     ]
    }
   ],
   "source": [
    "start_time = time.time()\n",
    "y_pred = model_DNN.predict(X_test)\n",
    "DNN_prediction_time = time.time() - start_time\n",
    "mse = mean_squared_error(Y_test, y_pred)\n",
    "rmse = np.sqrt(mse)\n",
    "r2 = r2_score(Y_test, y_pred)\n",
    "\n",
    "print('MSE: {:.2f}'.format(mse))\n",
    "print('RMSE: {:.2f}'.format(rmse))\n",
    "print('R-squared: {:.2f}'.format(r2))\n",
    "print('Training Time: {:.2f} seconds'.format(DNN_training_time))\n",
    "print('Prediction Time: {:.2f} seconds'.format(DNN_prediction_time))\n",
    "DNN_evaluation = [mse,rmse,r2,DNN_training_time,DNN_prediction_time]"
   ]
  },
  {
   "cell_type": "markdown",
   "id": "118a14bd",
   "metadata": {},
   "source": [
    "# Step 11: Evaluate and Compare Scores, Training Time, and Prediction Time of ANN/DNN Models"
   ]
  },
  {
   "cell_type": "code",
   "execution_count": 21,
   "id": "d74085fd",
   "metadata": {},
   "outputs": [
    {
     "name": "stdout",
     "output_type": "stream",
     "text": [
      "Metric               ANN Evaluation       DNN Evaluation      \n",
      "MSE                  53023296.55774615    45418355.76816429   \n",
      "RMSE                 7281.709727649554    6739.314191233726   \n",
      "R-squared            0.508921506084207    0.5793551288824307  \n",
      "Training Time        1.6430575847625732   1.6239252090454102  \n",
      "Prediction Time      0.20046234130859375  0.16370511054992676 \n"
     ]
    }
   ],
   "source": [
    "print('{:<20} {:<20} {:<20}'.format('Metric', 'ANN Evaluation', 'DNN Evaluation'))\n",
    "print('{:<20} {:<20} {:<20}'.format('MSE', ANN_evaluation[0], DNN_evaluation[0]))\n",
    "print('{:<20} {:<20} {:<20}'.format('RMSE', ANN_evaluation[1], DNN_evaluation[1]))\n",
    "print('{:<20} {:<20} {:<20}'.format('R-squared', ANN_evaluation[2], DNN_evaluation[2]))\n",
    "print('{:<20} {:<20} {:<20}'.format('Training Time', ANN_evaluation[3], DNN_evaluation[3]))\n",
    "print('{:<20} {:<20} {:<20}'.format('Prediction Time', ANN_evaluation[4], DNN_evaluation[4]))\n"
   ]
  },
  {
   "cell_type": "code",
   "execution_count": null,
   "id": "b52d8766",
   "metadata": {},
   "outputs": [],
   "source": []
  }
 ],
 "metadata": {
  "kernelspec": {
   "display_name": "Python 3 (ipykernel)",
   "language": "python",
   "name": "python3"
  },
  "language_info": {
   "codemirror_mode": {
    "name": "ipython",
    "version": 3
   },
   "file_extension": ".py",
   "mimetype": "text/x-python",
   "name": "python",
   "nbconvert_exporter": "python",
   "pygments_lexer": "ipython3",
   "version": "3.11.4"
  }
 },
 "nbformat": 4,
 "nbformat_minor": 5
}
